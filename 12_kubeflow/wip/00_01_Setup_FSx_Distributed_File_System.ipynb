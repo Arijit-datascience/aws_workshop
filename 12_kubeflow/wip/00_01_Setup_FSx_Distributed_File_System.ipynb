{
 "cells": [
  {
   "cell_type": "markdown",
   "metadata": {},
   "source": [
    "Amazon FSx for Lustre is a high-performance file system optimized for deep learning workloads.  \n",
    "\n",
    "FSx provides POSIX-compliant file system access to S3 for multiple readers and writers simultaneously."
   ]
  },
  {
   "cell_type": "markdown",
   "metadata": {},
   "source": [
    "# 1. Install the FSx CSI Driver for Kubernetes"
   ]
  },
  {
   "cell_type": "code",
   "execution_count": 24,
   "metadata": {
    "scrolled": true
   },
   "outputs": [
    {
     "name": "stdout",
     "output_type": "stream",
     "text": [
      "daemonset.apps/fsx-csi-node unchanged\n",
      "serviceaccount/fsx-csi-controller-sa unchanged\n",
      "clusterrole.rbac.authorization.k8s.io/fsx-csi-external-provisioner-role unchanged\n",
      "clusterrolebinding.rbac.authorization.k8s.io/fsx-csi-external-provisioner-binding unchanged\n",
      "statefulset.apps/fsx-csi-controller unchanged\n",
      "csidriver.storage.k8s.io/fsx.csi.aws.com unchanged\n",
      "export VPC_ID=vpc-08704f60782460e83\n",
      "export SUBNET_ID=subnet-0cbb9a0b1863ea0d0\n",
      "None\n"
     ]
    },
    {
     "name": "stderr",
     "output_type": "stream",
     "text": [
      "\n",
      "An error occurred (InvalidGroup.Duplicate) when calling the CreateSecurityGroup operation: The security group 'eks-fsx-security-group4' already exists for VPC 'vpc-08704f60782460e83'\n"
     ]
    }
   ],
   "source": [
    "%%bash\n",
    "\n",
    "source ~/.bash_profile\n",
    "\n",
    "kubectl apply -f https://raw.githubusercontent.com/kubernetes-sigs/aws-fsx-csi-driver/release-0.2.0/deploy/kubernetes/manifest.yaml \n",
    "\n",
    "#### Get VPC ID\n",
    "export VPC_ID=$(aws ec2 describe-vpcs --filters \"Name=tag:Name,Values=eksctl-${AWS_CLUSTER_NAME}-cluster/VPC\" --query \"Vpcs[0].VpcId\" --output text)\n",
    "echo \"export VPC_ID=${VPC_ID}\" | tee -a ~/.bash_profile\n",
    "\n",
    "#### Get Subnet ID\n",
    "export SUBNET_ID=$(aws ec2 describe-subnets --filters \"Name=vpc-id,Values=${VPC_ID}\" --query \"Subnets[0].SubnetId\" --output text)\n",
    "echo \"export SUBNET_ID=${SUBNET_ID}\" | tee -a ~/.bash_profile\n",
    "\n",
    "\n",
    "# THIS MUST HAPPEN HERE BECAUSE VPC_ID IS DEFINED IN THIS CELL!!\n",
    "aws ec2 create-security-group --group-name eks-fsx-security-group4 --vpc-id ${VPC_ID} --description \"FSx for Lustre Security Group\" --query \"GroupId\" --output text\n",
    "\n",
    "#aws ec2 describe-security-groups --filters \"Name=vpc-id,Values=${VPC_ID}\" --query \"Subnets[0].SubnetId\" --output text"
   ]
  },
  {
   "cell_type": "code",
   "execution_count": null,
   "metadata": {},
   "outputs": [],
   "source": []
  },
  {
   "cell_type": "code",
   "execution_count": 25,
   "metadata": {},
   "outputs": [
    {
     "name": "stderr",
     "output_type": "stream",
     "text": [
      "bash: line 4: !aws: command not found\n"
     ]
    }
   ],
   "source": [
    "%%bash\n",
    "\n",
    "source ~/.bash_profile\n",
    "\n",
    "!aws ec2 describe-security-groups --filters \"Name=vpc-id,Values=${VPC_ID}\" --query \"Subnets[0].SubnetId\" --output text"
   ]
  },
  {
   "cell_type": "code",
   "execution_count": null,
   "metadata": {},
   "outputs": [],
   "source": []
  },
  {
   "cell_type": "code",
   "execution_count": null,
   "metadata": {},
   "outputs": [],
   "source": []
  },
  {
   "cell_type": "code",
   "execution_count": null,
   "metadata": {},
   "outputs": [],
   "source": []
  },
  {
   "cell_type": "code",
   "execution_count": null,
   "metadata": {},
   "outputs": [],
   "source": []
  },
  {
   "cell_type": "code",
   "execution_count": 17,
   "metadata": {},
   "outputs": [
    {
     "name": "stdout",
     "output_type": "stream",
     "text": [
      "usage: aws [options] <command> <subcommand> [<subcommand> ...] [parameters]\r\n",
      "To see help text, you can run:\r\n",
      "\r\n",
      "  aws help\r\n",
      "  aws <command> help\r\n",
      "  aws <command> <subcommand> help\r\n",
      "aws: error: argument --vpc-id: expected one argument\r\n"
     ]
    }
   ],
   "source": [
    "!aws ec2 create-security-group --group-name eks-fsx-security-group --vpc-id ${VPC_ID} --description \"FSx for Lustre Security Group\" --query \"GroupId\" --output text"
   ]
  },
  {
   "cell_type": "code",
   "execution_count": 7,
   "metadata": {},
   "outputs": [
    {
     "ename": "SyntaxError",
     "evalue": "invalid syntax (<ipython-input-7-1e014928b660>, line 2)",
     "output_type": "error",
     "traceback": [
      "\u001b[0;36m  File \u001b[0;32m\"<ipython-input-7-1e014928b660>\"\u001b[0;36m, line \u001b[0;32m2\u001b[0m\n\u001b[0;31m    export SECURITY_GROUP_ID=$(aws ec2 create-security-group --group-name eks-fsx-security-group --vpc-id ${VPC_ID} --description \"FSx for Lustre Security Group\" --query \"GroupId\" --output text)\u001b[0m\n\u001b[0m                           ^\u001b[0m\n\u001b[0;31mSyntaxError\u001b[0m\u001b[0;31m:\u001b[0m invalid syntax\n"
     ]
    }
   ],
   "source": [
    "#### Create your security group for the FSx file system\n",
    "export SECURITY_GROUP_ID=$()\n",
    "echo \"export SECURITY_GROUP_ID=${SECURITY_GROUP_ID}\" | tee -a ~/.bash_profile"
   ]
  },
  {
   "cell_type": "code",
   "execution_count": null,
   "metadata": {},
   "outputs": [],
   "source": [
    "#### Add an ingress rule that opens up port 988 from the 192.168.0.0/16 CIDR range\n",
    "aws ec2 authorize-security-group-ingress --group-id ${SECURITY_GROUP_ID} --protocol tcp --port 988 --cidr 192.168.0.0/16\n",
    "\n",
    "#### Update the environment variables in the storage class spec file\n",
    "# Populate SUBNET_ID, SECURITY_GROUP_ID, S3_BUCKET\n",
    "cd ~/SageMaker/kubeflow/notebooks/part-3-kubernetes/\n",
    "\n",
    "sed \"s@SUBNET_ID@$SUBNET_ID@\" fsx/fsx-s3-sc.yaml.template > fsx/fsx-s3-sc.yaml\n",
    "\n",
    "sed -i.bak -e \"s@SECURITY_GROUP_ID@$SECURITY_GROUP_ID@\" fsx/fsx-s3-sc.yaml \n",
    "\n",
    "sed -i.bak -e \"s@S3_BUCKET@$S3_BUCKET@\" fsx/fsx-s3-sc.yaml"
   ]
  },
  {
   "cell_type": "code",
   "execution_count": 4,
   "metadata": {},
   "outputs": [
    {
     "ename": "SyntaxError",
     "evalue": "invalid syntax (<ipython-input-4-c7f1ab36f491>, line 2)",
     "output_type": "error",
     "traceback": [
      "\u001b[0;36m  File \u001b[0;32m\"<ipython-input-4-c7f1ab36f491>\"\u001b[0;36m, line \u001b[0;32m2\u001b[0m\n\u001b[0;31m    export POLICY_ARN=$(aws iam create-policy --policy-name fsx-csi --policy-document file://./fsx/fsx_lustre_policy.json --query \"Policy.Arn\" --output text)\u001b[0m\n\u001b[0m                    ^\u001b[0m\n\u001b[0;31mSyntaxError\u001b[0m\u001b[0;31m:\u001b[0m invalid syntax\n"
     ]
    }
   ],
   "source": [
    "#### Setup IAM Policies to allow Worker Nodes to Access FSx and S3\n",
    "export POLICY_ARN=$(aws iam create-policy --policy-name fsx-csi --policy-document file://./fsx/fsx_lustre_policy.json --query \"Policy.Arn\" --output text)\n",
    "echo \"export POLICY_ARN=${POLICY_ARN}\" | tee -a ~/.bash_profile\n"
   ]
  },
  {
   "cell_type": "code",
   "execution_count": null,
   "metadata": {},
   "outputs": [],
   "source": [
    "aws iam attach-role-policy --policy-arn ${POLICY_ARN} --role-name ${INSTANCE_ROLE_NAME}\n",
    "\n",
    "#### Deploy the StorageClass and PersistentVolumeClaim\n",
    "kubectl create -f fsx/fsx-s3-sc.yaml\n",
    "kubectl create -f fsx/fsx-s3-pvc.yaml\n",
    "\n",
    "# You can check the status by running the following command (as many times as you like). \n",
    "\n",
    "# *Note:  This will take 5-10 minutes, so please be patient!*\n",
    "\n",
    "kubectl get pvc fsx-claim \n",
    "\n",
    "# Please wait for this to complete before continuing.\n",
    "\n",
    "# When the claim is bound, you will see the following:\n",
    "\n",
    "kubectl get pvc fsx-claim\n",
    "\n",
    "### EXPECTED OUTPUT ###\n",
    "# NAME        STATUS   VOLUME                                     CAPACITY   ACCESSMODES   STORAGECLASS   AGE\n",
    "# fsx-claim   Bound    pvc-xxx                                    1200Gi     RWX           fsx-sc         1m\n",
    "\n",
    "echo \"Completed\""
   ]
  },
  {
   "cell_type": "markdown",
   "metadata": {},
   "source": [
    "# 2. Monitor and Verify FSx File System Creation\n",
    "\n",
    "In the AWS Console, navigate to `FSx` > `File systems`\n",
    "\n",
    "![FSx File System](img/fsx-lustre.png)\n",
    "\n",
    "_Note: The minimum size of an FSx Lustre file system is 1.2 Terabytes._\n",
    "\n",
    "Please continue to the next section while the FSX Lustre file system is spinning up.\n"
   ]
  },
  {
   "cell_type": "code",
   "execution_count": null,
   "metadata": {},
   "outputs": [],
   "source": [
    "\n"
   ]
  }
 ],
 "metadata": {
  "kernelspec": {
   "display_name": "conda_python3",
   "language": "python",
   "name": "conda_python3"
  },
  "language_info": {
   "codemirror_mode": {
    "name": "ipython",
    "version": 3
   },
   "file_extension": ".py",
   "mimetype": "text/x-python",
   "name": "python",
   "nbconvert_exporter": "python",
   "pygments_lexer": "ipython3",
   "version": "3.6.5"
  }
 },
 "nbformat": 4,
 "nbformat_minor": 4
}
