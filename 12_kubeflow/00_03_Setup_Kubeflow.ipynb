{
 "cells": [
  {
   "cell_type": "markdown",
   "metadata": {},
   "source": [
    "# Install and Setup Kubeflow on EKS\n",
    "\n",
    "Based on these instructions:  https://www.kubeflow.org/docs/aws/deploy/install-kubeflow/\n",
    "\n",
    "# _This Will Take a Few Minutes, Please Be Patient._"
   ]
  },
  {
   "cell_type": "code",
   "execution_count": null,
   "metadata": {},
   "outputs": [],
   "source": [
    "%%bash\n",
    "\n",
    "source ~/.bash_profile\n",
    "\n",
    "#### Check environment variables are set with valid values\n",
    "echo $S3_BUCKET\n",
    "echo $AWS_CLUSTER_NAME\n",
    "echo $INSTANCE_ROLE_NAME\n",
    "echo $INSTANCE_PROFILE_ARN\n",
    "\n",
    "#### Download the `kfctl` CLI tool\n",
    "curl --location https://github.com/kubeflow/kfctl/releases/download/v1.0.2/kfctl_v1.0.2-0-ga476281_linux.tar.gz | tar xz\n",
    "sudo mv kfctl /usr/local/bin\n",
    "\n",
    "#### Get the latest Kubeflow configuration file\n",
    "\n",
    "# With Ingress\n",
    "export CONFIG_URI=\"https://raw.githubusercontent.com/kubeflow/manifests/v1.0-branch/kfdef/kfctl_aws.v1.0.2.yaml\"\n",
    "#export CONFIG_URI='https://raw.githubusercontent.com/kubeflow/manifests/v1.0.2/kfdef/kfctl_aws.v1.0.2.yaml'\n",
    "echo \"export CONFIG_URI=${CONFIG_URI}\" | tee -a ~/.bash_profile\n",
    "\n",
    "#### Set Kubeflow environment variables \n",
    "export KF_NAME=${AWS_CLUSTER_NAME}\n",
    "echo \"export KF_NAME=${KF_NAME}\" | tee -a ~/.bash_profile\n",
    "\n",
    "#cd ~/SageMaker/kubeflow/notebooks/part-3-kubernetes\n",
    "\n",
    "export KF_DIR=$PWD/${KF_NAME}\n",
    "echo \"export KF_DIR=${KF_DIR}\" | tee -a ~/.bash_profile\n",
    "\n",
    "#### Customize the configuration files\n",
    "# We'll edit the configuration with the right names for the cluster and node groups before deploying Kubeflow.\n",
    "\n",
    "mkdir -p ${KF_DIR}\n",
    "cd ${KF_DIR}\n",
    "\n",
    "curl -O ${CONFIG_URI}\n",
    "\n",
    "export CONFIG_FILE=${KF_DIR}/kfctl_aws.v1.0.2.yaml\n",
    "echo \"export CONFIG_FILE=${CONFIG_FILE}\" | tee -a ~/.bash_profile\n",
    "\n",
    "sed -i.bak -e \"/region: us-west-2/ a \\      enablePodIamPolicy: true\" ${CONFIG_FILE}\n",
    "sed -i.bak -e \"s@us-west-2@$AWS_REGION@\" ${CONFIG_FILE}\n",
    "sed -i.bak -e \"s@roles:@#roles:@\" ${CONFIG_FILE}\n",
    "sed -i.bak -e \"s@- eksctl-kubeflow-aws-nodegroup-ng-a2-NodeInstanceRole-xxxxxxx@#- eksctl-kubeflow-aws-nodegroup-ng-a2-NodeInstanceRole-xxxxxxx@\" ${CONFIG_FILE}\n",
    "sed -i.bak -e \"s@eksctl-kubeflow-aws-nodegroup-ng-a2-NodeInstanceRole-xxxxxxx@$INSTANCE_ROLE_NAME@\" ${CONFIG_FILE}\n",
    "sed -i.bak -e 's/kubeflow-aws/'\"$AWS_CLUSTER_NAME\"'/' ${CONFIG_FILE}\n",
    "\n",
    "#### Generate the Kubeflow installation files\n",
    "cd ${KF_DIR}\n",
    "\n",
    "rm -rf kustomize\n",
    "rm -rf .cache\n",
    "\n",
    "kfctl build -V -f ${CONFIG_FILE}\n",
    "\n",
    "#### Deploy Kubeflow\n",
    "cd ${KF_DIR}\n",
    "\n",
    "kfctl apply -V -f ${CONFIG_FILE}\n",
    "\n",
    "#### Remove istio-ingress in --namespace kubeflow\n",
    "kubectl delete ingress istio-ingress --namespace kubeflow\n",
    "\n",
    "#### Delete the usage reporting beacon\n",
    "kubectl delete all -l app=spartakus --namespace=kubeflow\n",
    "\n",
    "#### Change to `kubeflow` namespace\n",
    "kubectl config set-context --current --namespace=kubeflow"
   ]
  },
  {
   "cell_type": "markdown",
   "metadata": {},
   "source": [
    "## Wait for resource to become available\n",
    "Monitor changes by running kubectl get all namespaces command.\n"
   ]
  },
  {
   "cell_type": "code",
   "execution_count": null,
   "metadata": {},
   "outputs": [],
   "source": [
    "!kubectl -n kubeflow get all\n"
   ]
  },
  {
   "cell_type": "code",
   "execution_count": null,
   "metadata": {},
   "outputs": [],
   "source": [
    "!kubectl -n istio-system get all\n"
   ]
  },
  {
   "cell_type": "code",
   "execution_count": null,
   "metadata": {},
   "outputs": [],
   "source": [
    "%%javascript\n",
    "Jupyter.notebook.save_checkpoint();\n",
    "Jupyter.notebook.session.delete();"
   ]
  },
  {
   "cell_type": "code",
   "execution_count": null,
   "metadata": {},
   "outputs": [],
   "source": []
  }
 ],
 "metadata": {
  "kernelspec": {
   "display_name": "conda_python3",
   "language": "python",
   "name": "conda_python3"
  },
  "language_info": {
   "codemirror_mode": {
    "name": "ipython",
    "version": 3
   },
   "file_extension": ".py",
   "mimetype": "text/x-python",
   "name": "python",
   "nbconvert_exporter": "python",
   "pygments_lexer": "ipython3",
   "version": "3.6.10"
  }
 },
 "nbformat": 4,
 "nbformat_minor": 4
}
