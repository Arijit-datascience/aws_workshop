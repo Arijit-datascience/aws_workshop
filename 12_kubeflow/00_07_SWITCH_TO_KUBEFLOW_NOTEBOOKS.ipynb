{
 "cells": [
  {
   "cell_type": "markdown",
   "metadata": {},
   "source": [
    "# Switch to the Kubeflow Notebook Server \n",
    "\n",
    "**Note:** Make sure you are in the *Kubeflow Notebook Server* and not in this SageMaker Notebook!\n",
    "\n",
    "Navigate to the `workshop/10_kubeflow/` directory and run the notebooks starting from `01_*`.\n"
   ]
  },
  {
   "cell_type": "markdown",
   "metadata": {},
   "source": [
    "# Run the Notebooks\n",
    "\n",
    "![run-notebooks](img/run-notebooks.png)\n"
   ]
  },
  {
   "cell_type": "code",
   "execution_count": null,
   "metadata": {},
   "outputs": [],
   "source": [
    "%%javascript\n",
    "Jupyter.notebook.save_checkpoint();\n",
    "Jupyter.notebook.session.delete();"
   ]
  }
 ],
 "metadata": {
  "kernelspec": {
   "display_name": "conda_python3",
   "language": "python",
   "name": "conda_python3"
  },
  "language_info": {
   "codemirror_mode": {
    "name": "ipython",
    "version": 3
   },
   "file_extension": ".py",
   "mimetype": "text/x-python",
   "name": "python",
   "nbconvert_exporter": "python",
   "pygments_lexer": "ipython3",
   "version": "3.6.5"
  }
 },
 "nbformat": 4,
 "nbformat_minor": 4
}
