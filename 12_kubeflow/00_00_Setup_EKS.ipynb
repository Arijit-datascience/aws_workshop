{
 "cells": [
  {
   "cell_type": "code",
   "execution_count": null,
   "metadata": {},
   "outputs": [],
   "source": [
    "import sys\n",
    "print('Python Version %s' % sys.version)"
   ]
  },
  {
   "cell_type": "code",
   "execution_count": null,
   "metadata": {},
   "outputs": [],
   "source": [
    "!pip list"
   ]
  },
  {
   "cell_type": "code",
   "execution_count": null,
   "metadata": {},
   "outputs": [],
   "source": [
    "%%bash\n",
    "conda list"
   ]
  },
  {
   "cell_type": "code",
   "execution_count": null,
   "metadata": {},
   "outputs": [],
   "source": [
    "%%html\n",
    "\n",
    "<iframe src=\"https://datascienceonaws.com\" width=\"800px\" height=\"600px\"/>"
   ]
  },
  {
   "cell_type": "markdown",
   "metadata": {},
   "source": [
    "# 1. Install the CLI tools\n",
    "\n",
    "_Note:  Make sure the SageMaker role has access to create EKS Cluster._"
   ]
  },
  {
   "cell_type": "code",
   "execution_count": null,
   "metadata": {},
   "outputs": [],
   "source": [
    "%%bash\n",
    "\n",
    "source ~/.bash_profile\n",
    "\n",
    "#### Install `eksctl`\n",
    "# To get started we'll first install the `awscli` and `eksctl` CLI tools. [eksctl](https://eksctl.io) simplifies the process of creating EKS clusters.\n",
    "\n",
    "pip install awscli --upgrade --user\n",
    "\n",
    "curl --silent --location \"https://github.com/weaveworks/eksctl/releases/latest/download/eksctl_$(uname -s)_amd64.tar.gz\" | tar xz -C /tmp\n",
    "\n",
    "sudo mv /tmp/eksctl /usr/local/bin\n",
    "\n",
    "eksctl version\n",
    "\n",
    "#### Install `kubectl`\n",
    "# `kubectl` is a command line interface for running commands against Kubernetes clusters. \n",
    "# Run the following to install Kubectl\n",
    "\n",
    "curl --location -o ./kubectl https://amazon-eks.s3.us-west-2.amazonaws.com/1.15.10/2020-02-22/bin/linux/amd64/kubectl\n",
    "\n",
    "chmod +x ./kubectl\n",
    "\n",
    "sudo mv ./kubectl /usr/local/bin\n",
    "\n",
    "kubectl version --short --client\n",
    "\n",
    "#### Install `aws-iam-authenticator`\n",
    "\n",
    "curl -o aws-iam-authenticator https://amazon-eks.s3.us-west-2.amazonaws.com/1.15.10/2020-02-22/bin/linux/amd64/aws-iam-authenticator\n",
    "\n",
    "chmod +x ./aws-iam-authenticator\n",
    "\n",
    "sudo mv aws-iam-authenticator /usr/local/bin\n",
    "\n",
    "aws-iam-authenticator version\n",
    "\n",
    "#### Install jq and envsubst (from GNU gettext utilities) \n",
    "sudo yum -y install jq gettext\n",
    "\n",
    "#### Verify the binaries are in the path and executable\n",
    "for command in kubectl jq envsubst\n",
    "  do\n",
    "    which $command &>/dev/null && echo \"$command in path\" || echo \"$command NOT FOUND\"\n",
    "  done\n",
    "\n",
    "echo \"Completed\""
   ]
  },
  {
   "cell_type": "markdown",
   "metadata": {},
   "source": [
    "# 2. Configure the Environment Variables"
   ]
  },
  {
   "cell_type": "code",
   "execution_count": null,
   "metadata": {},
   "outputs": [],
   "source": [
    "%%bash\n",
    "\n",
    "source ~/.bash_profile\n",
    "\n",
    "export AWS_REGION=$(aws configure get region)\n",
    "echo \"export AWS_REGION=${AWS_REGION}\" | tee -a ~/.bash_profile\n",
    "\n",
    "export AWS_CLUSTER_NAME=cluster\n",
    "echo \"export AWS_CLUSTER_NAME=${AWS_CLUSTER_NAME}\" | tee -a ~/.bash_profile\n",
    "\n",
    "echo \"Completed\""
   ]
  },
  {
   "cell_type": "markdown",
   "metadata": {},
   "source": [
    "# 3. Create the EKS Cluster\n",
    "\n",
    "_Note:  Creating a cluster may take about 15 minutes.  Please be patient._"
   ]
  },
  {
   "cell_type": "code",
   "execution_count": null,
   "metadata": {},
   "outputs": [],
   "source": [
    "%%bash\n",
    "\n",
    "source ~/.bash_profile\n",
    "\n",
    "cat << EOF > cluster.yaml\n",
    "---\n",
    "apiVersion: eksctl.io/v1alpha5\n",
    "kind: ClusterConfig\n",
    "\n",
    "metadata:\n",
    "  name: ${AWS_CLUSTER_NAME}\n",
    "  region: ${AWS_REGION}\n",
    "\n",
    "cloudWatch:\n",
    "  clusterLogging:\n",
    "    enableTypes: [\"*\"]\n",
    "\n",
    "managedNodeGroups:\n",
    "- name: cpu-nodes\n",
    "  instanceType: c5.xlarge\n",
    "  volumeSize: 100\n",
    "  desiredCapacity: 5\n",
    "  iam:\n",
    "    withAddonPolicies:\n",
    "      albIngress: true\n",
    "\n",
    "#secretsEncryption:\n",
    "#  keyARN: ${MASTER_ARN}\n",
    "EOF"
   ]
  },
  {
   "cell_type": "code",
   "execution_count": null,
   "metadata": {
    "scrolled": true
   },
   "outputs": [],
   "source": [
    "!cat cluster.yaml"
   ]
  },
  {
   "cell_type": "code",
   "execution_count": null,
   "metadata": {
    "scrolled": true
   },
   "outputs": [],
   "source": [
    "%%bash\n",
    "\n",
    "source ~/.bash_profile\n",
    "\n",
    "eksctl create cluster -f ./cluster.yaml\n",
    "\n",
    "echo \"Completed\""
   ]
  },
  {
   "cell_type": "markdown",
   "metadata": {},
   "source": [
    "# _Please Wait 15-20 Minutes for the EKS Cluster to Start Successfully_"
   ]
  },
  {
   "cell_type": "markdown",
   "metadata": {},
   "source": [
    "# _Your output will look like this..._\n",
    "\n",
    "![](img/verify_eks.png)"
   ]
  },
  {
   "cell_type": "markdown",
   "metadata": {},
   "source": [
    "# You will see retry errors. This is OK."
   ]
  }
 ],
 "metadata": {
  "kernelspec": {
   "display_name": "conda_python3",
   "language": "python",
   "name": "conda_python3"
  },
  "language_info": {
   "codemirror_mode": {
    "name": "ipython",
    "version": 3
   },
   "file_extension": ".py",
   "mimetype": "text/x-python",
   "name": "python",
   "nbconvert_exporter": "python",
   "pygments_lexer": "ipython3",
   "version": "3.6.10"
  }
 },
 "nbformat": 4,
 "nbformat_minor": 4
}
