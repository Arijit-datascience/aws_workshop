{
 "cells": [
  {
   "cell_type": "markdown",
   "metadata": {},
   "source": [
    "# Update IAM Roles and Policies"
   ]
  },
  {
   "cell_type": "code",
   "execution_count": null,
   "metadata": {},
   "outputs": [],
   "source": [
    "import sagemaker\n",
    "from time import gmtime, strftime\n",
    "import boto3\n",
    "\n",
    "sagemaker_session = sagemaker.Session()\n",
    "role = sagemaker.get_execution_role()\n",
    "bucket = sagemaker_session.default_bucket()\n",
    "region = boto3.Session().region_name\n",
    "\n",
    "from botocore.config import Config\n",
    "\n",
    "config = Config(\n",
    "   retries = {\n",
    "      'max_attempts': 10,\n",
    "      'mode': 'adaptive'\n",
    "   }\n",
    ")\n",
    "\n",
    "iam = boto3.client('iam', config=config)"
   ]
  },
  {
   "cell_type": "code",
   "execution_count": null,
   "metadata": {},
   "outputs": [],
   "source": [
    "role_name = role.split('/')[-1]\n",
    "\n",
    "print('Role name: {}'.format(role_name))"
   ]
  },
  {
   "cell_type": "markdown",
   "metadata": {},
   "source": [
    "# *Check: This notebook expects the SageMaker notebook instance execution role to have `IAMFullAccess` policies assigned:*"
   ]
  },
  {
   "cell_type": "code",
   "execution_count": null,
   "metadata": {},
   "outputs": [],
   "source": [
    "pre_policies = iam.list_attached_role_policies(RoleName=role_name)['AttachedPolicies']\n",
    "\n",
    "required_policies = [\n",
    "                     'IAMFullAccess' \n",
    "#                     'AmazonSageMakerFullAccess'\n",
    "                    ]\n",
    "\n",
    "for pre_policy in pre_policies:\n",
    "    for role_req in required_policies:\n",
    "        if pre_policy['PolicyName'] == role_req:\n",
    "            print('Attached: {}'.format(pre_policy['PolicyName']))\n",
    "            try:\n",
    "                required_policies.remove(pre_policy['PolicyName'])\n",
    "            except:\n",
    "                pass\n",
    "    \n",
    "if len(required_policies) > 0:\n",
    "    print('\\n*************** ERROR: You need to attach the following policies in order to continue with this workshop *****************\\n')\n",
    "    for required_policy in required_policies:\n",
    "        print('Not Attached: {}'.format(required_policy))\n",
    "else:\n",
    "    print('\\n*************** SUCCESS: You are all set to continue with this notebook! *****************\\n')\n",
    "            "
   ]
  },
  {
   "cell_type": "markdown",
   "metadata": {},
   "source": [
    "# ^^^^ *If you see an ERROR message above, please attach the mentioned AWS IAM Policy to your current SageMaker notebook instance execution role before you continue with this notebook.*"
   ]
  },
  {
   "cell_type": "code",
   "execution_count": null,
   "metadata": {},
   "outputs": [],
   "source": [
    "from botocore.exceptions import ClientError\n",
    "\n",
    "try:\n",
    "    response = iam.attach_role_policy(\n",
    "        PolicyArn='arn:aws:iam::aws:policy/AdministratorAccess',\n",
    "        RoleName=role_name\n",
    "    )\n",
    "    print(\"Policy has been succesfully attached to role: %s\" % role_name)\n",
    "except ClientError as e:\n",
    "    if e.response['Error']['Code'] == 'EntityAlreadyExists':\n",
    "        print(\"Policy is already attached. This is OK.\")\n",
    "    elif e.response['Error']['Code'] == 'LimitExceeded':\n",
    "        print('******* We reached the max. of 10 attached policies per role.  This could be OK if you have AdministratorAccess. ******')\n",
    "    else:\n",
    "        print(\"*************** Unexpected error: %s *****************\" % e)"
   ]
  },
  {
   "cell_type": "code",
   "execution_count": null,
   "metadata": {},
   "outputs": [],
   "source": [
    "from botocore.exceptions import ClientError\n",
    "\n",
    "try:\n",
    "    response = iam.attach_role_policy(\n",
    "        PolicyArn='arn:aws:iam::aws:policy/AmazonSageMakerFullAccess',\n",
    "        RoleName=role_name\n",
    "    )\n",
    "    print(\"Policy has been succesfully attached to role: %s\" % role_name)\n",
    "except ClientError as e:\n",
    "    if e.response['Error']['Code'] == 'EntityAlreadyExists':\n",
    "        print(\"Policy is already attached. This is OK.\")\n",
    "    elif e.response['Error']['Code'] == 'LimitExceeded':\n",
    "        print('******* We reached the max. of 10 attached policies per role.  This could be OK if you have AdministratorAccess. ******')\n",
    "    else:\n",
    "        print(\"*************** Unexpected error: %s *****************\" % e)"
   ]
  },
  {
   "cell_type": "code",
   "execution_count": null,
   "metadata": {},
   "outputs": [],
   "source": [
    "from botocore.exceptions import ClientError\n",
    "\n",
    "try:\n",
    "    response = iam.attach_role_policy(\n",
    "        PolicyArn='arn:aws:iam::aws:policy/IAMFullAccess',\n",
    "        RoleName=role_name\n",
    "    )\n",
    "    print(\"Policy has been succesfully attached to role: %s\" % role_name)\n",
    "except ClientError as e:\n",
    "    if e.response['Error']['Code'] == 'EntityAlreadyExists':\n",
    "        print(\"Policy is already attached. This is OK.\")\n",
    "    elif e.response['Error']['Code'] == 'LimitExceeded':\n",
    "        print('******* We reached the max. of 10 attached policies per role.  This could be OK if you have AdministratorAccess. ******')\n",
    "    else:\n",
    "        print(\"*************** Unexpected error: %s *****************\" % e)"
   ]
  },
  {
   "cell_type": "code",
   "execution_count": null,
   "metadata": {},
   "outputs": [],
   "source": [
    "from botocore.exceptions import ClientError\n",
    "\n",
    "try:\n",
    "    response = iam.attach_role_policy(\n",
    "        PolicyArn='arn:aws:iam::aws:policy/AmazonS3FullAccess',\n",
    "        RoleName=role_name\n",
    "    )\n",
    "    print(\"Policy has been succesfully attached to role: %s\" % role_name)\n",
    "except ClientError as e:\n",
    "    if e.response['Error']['Code'] == 'EntityAlreadyExists':\n",
    "        print(\"Policy is already attached. This is OK.\")\n",
    "    elif e.response['Error']['Code'] == 'LimitExceeded':\n",
    "        print('******* We reached the max. of 10 attached policies per role.  This could be OK if you have AdministratorAccess. ******')\n",
    "    else:\n",
    "        print(\"*************** Unexpected error: %s *****************\" % e)"
   ]
  },
  {
   "cell_type": "code",
   "execution_count": null,
   "metadata": {},
   "outputs": [],
   "source": [
    "from botocore.exceptions import ClientError\n",
    "\n",
    "try:\n",
    "    response = iam.attach_role_policy(\n",
    "        PolicyArn='arn:aws:iam::aws:policy/ComprehendFullAccess',\n",
    "        RoleName=role_name\n",
    "    )\n",
    "    print(\"Policy has been succesfully attached to role: %s\" % role_name)\n",
    "except ClientError as e:\n",
    "    if e.response['Error']['Code'] == 'EntityAlreadyExists':\n",
    "        print(\"Policy is already attached. This is OK.\")\n",
    "    elif e.response['Error']['Code'] == 'LimitExceeded':\n",
    "        print('******* We reached the max. of 10 attached policies per role.  This could be OK if you have AdministratorAccess. ******')\n",
    "    else:\n",
    "        print(\"*************** Unexpected error: %s *****************\" % e)"
   ]
  },
  {
   "cell_type": "code",
   "execution_count": null,
   "metadata": {},
   "outputs": [],
   "source": [
    "from botocore.exceptions import ClientError\n",
    "\n",
    "try:\n",
    "    response = iam.attach_role_policy(\n",
    "        PolicyArn='arn:aws:iam::aws:policy/AmazonAthenaFullAccess',\n",
    "        RoleName=role_name\n",
    "    )\n",
    "    print(\"Policy has been succesfully attached to role: %s\" % role_name)\n",
    "except ClientError as e:\n",
    "    if e.response['Error']['Code'] == 'EntityAlreadyExists':\n",
    "        print(\"Policy is already attached. This is OK.\")\n",
    "    elif e.response['Error']['Code'] == 'LimitExceeded':\n",
    "        print('******* We reached the max. of 10 attached policies per role.  This could be OK if you have AdministratorAccess. ******')\n",
    "    else:\n",
    "        print(\"*************** Unexpected error: %s *****************\" % e)"
   ]
  },
  {
   "cell_type": "code",
   "execution_count": null,
   "metadata": {},
   "outputs": [],
   "source": [
    "from botocore.exceptions import ClientError\n",
    "\n",
    "try:\n",
    "    response = iam.attach_role_policy(\n",
    "        PolicyArn='arn:aws:iam::aws:policy/SecretsManagerReadWrite',\n",
    "        RoleName=role_name\n",
    "    )\n",
    "    print(\"Policy has been succesfully attached to role: %s\" % role_name)\n",
    "except ClientError as e:\n",
    "    if e.response['Error']['Code'] == 'EntityAlreadyExists':\n",
    "        print(\"Policy is already attached. This is OK.\")\n",
    "    elif e.response['Error']['Code'] == 'LimitExceeded':\n",
    "        print('******* We reached the max. of 10 attached policies per role.  This could be OK if you have AdministratorAccess. ******')\n",
    "    else:\n",
    "        print(\"*************** Unexpected error: %s *****************\" % e)"
   ]
  },
  {
   "cell_type": "code",
   "execution_count": null,
   "metadata": {},
   "outputs": [],
   "source": [
    "from botocore.exceptions import ClientError\n",
    "\n",
    "try:\n",
    "    response = iam.attach_role_policy(\n",
    "        PolicyArn='arn:aws:iam::aws:policy/AmazonRedshiftFullAccess',\n",
    "        RoleName=role_name\n",
    "    )\n",
    "    print(\"Policy has been succesfully attached to role: %s\" % role_name)\n",
    "except ClientError as e:\n",
    "    if e.response['Error']['Code'] == 'EntityAlreadyExists':\n",
    "        print(\"Policy is already attached. This is OK.\")\n",
    "    elif e.response['Error']['Code'] == 'LimitExceeded':\n",
    "        print('******* We reached the max. of 10 attached policies per role.  This could be OK if you have AdministratorAccess. ******')\n",
    "    else:\n",
    "        print(\"*************** Unexpected error: %s *****************\" % e)"
   ]
  },
  {
   "cell_type": "code",
   "execution_count": null,
   "metadata": {},
   "outputs": [],
   "source": [
    "from botocore.exceptions import ClientError\n",
    "\n",
    "try:\n",
    "    response = iam.attach_role_policy(\n",
    "        PolicyArn='arn:aws:iam::aws:policy/AmazonEC2ContainerRegistryFullAccess',\n",
    "        RoleName=role_name\n",
    "    )\n",
    "    print(\"Policy has been succesfully attached to role: %s\" % role_name)\n",
    "except ClientError as e:\n",
    "    if e.response['Error']['Code'] == 'EntityAlreadyExists':\n",
    "        print(\"Policy is already attached. This is OK.\")\n",
    "    elif e.response['Error']['Code'] == 'LimitExceeded':\n",
    "        print('******* We reached the max. of 10 attached policies per role.  This could be OK if you have AdministratorAccess. ******')\n",
    "    else:\n",
    "        print(\"*************** Unexpected error: %s *****************\" % e)"
   ]
  },
  {
   "cell_type": "code",
   "execution_count": null,
   "metadata": {},
   "outputs": [],
   "source": [
    "from botocore.exceptions import ClientError\n",
    "\n",
    "try:\n",
    "    response = iam.attach_role_policy(\n",
    "        PolicyArn='arn:aws:iam::aws:policy/AWSStepFunctionsFullAccess',\n",
    "        RoleName=role_name\n",
    "    )\n",
    "    print(\"Policy has been succesfully attached to role: %s\" % role_name)\n",
    "except ClientError as e:\n",
    "    if e.response['Error']['Code'] == 'EntityAlreadyExists':\n",
    "        print(\"Policy is already attached. This is OK.\")\n",
    "    elif e.response['Error']['Code'] == 'LimitExceeded':\n",
    "        print('******* We reached the max. of 10 attached policies per role.  This could be OK if you have AdministratorAccess. ******')\n",
    "    else:\n",
    "        print(\"*************** Unexpected error: %s *****************\" % e)"
   ]
  },
  {
   "cell_type": "markdown",
   "metadata": {},
   "source": [
    "# *Final Check*"
   ]
  },
  {
   "cell_type": "code",
   "execution_count": null,
   "metadata": {},
   "outputs": [],
   "source": [
    "#role = iam.get_role(RoleName=role_name)\n",
    "post_policies = iam.list_attached_role_policies(RoleName=role_name)['AttachedPolicies']\n",
    "\n",
    "required_policies = [\n",
    "                     'SecretsManagerReadWrite', \n",
    "                     'IAMFullAccess', \n",
    "                     'AmazonS3FullAccess', \n",
    "                     'AmazonAthenaFullAccess', \n",
    "                     'ComprehendFullAccess',\n",
    "                     'AdministratorAccess',\n",
    "                     'AWSStepFunctionsFullAccess',\n",
    "                     'AmazonSageMakerFullAccess'\n",
    "                    ]\n",
    "\n",
    "admin = False\n",
    "\n",
    "for post_policy in post_policies:\n",
    "    print('Attached {}'.format(post_policy['PolicyName']))\n",
    "    if post_policy['PolicyName'] == 'AdministratorAccess':\n",
    "        admin = True\n",
    "        print('You have {} privileges.'.format(post_policy['PolicyName']))\n",
    "        try:\n",
    "            required_policies.remove(post_policy['PolicyName'])\n",
    "        except:\n",
    "            break\n",
    "    else: \n",
    "        try:\n",
    "            required_policies.remove(post_policy['PolicyName'])\n",
    "        except:\n",
    "            pass\n",
    "\n",
    "if not admin and len(required_policies) > 0:\n",
    "    print('\\n*************** Unexpected error: RE-RUN THIS NOTEBOOK *****************\\n')\n",
    "    for required_policy in required_policies:\n",
    "        print('Not Attached: {}'.format(required_policy))\n",
    "else:\n",
    "    print('\\n*************** SUCCESS: You are all set up to continue with this workshop! *****************\\n')"
   ]
  },
  {
   "cell_type": "code",
   "execution_count": null,
   "metadata": {},
   "outputs": [],
   "source": [
    "%%javascript\n",
    "Jupyter.notebook.save_checkpoint();\n",
    "Jupyter.notebook.session.delete();"
   ]
  }
 ],
 "metadata": {
  "kernelspec": {
   "display_name": "conda_python3",
   "language": "python",
   "name": "conda_python3"
  },
  "language_info": {
   "codemirror_mode": {
    "name": "ipython",
    "version": 3
   },
   "file_extension": ".py",
   "mimetype": "text/x-python",
   "name": "python",
   "nbconvert_exporter": "python",
   "pygments_lexer": "ipython3",
   "version": "3.6.10"
  }
 },
 "nbformat": 4,
 "nbformat_minor": 4
}
