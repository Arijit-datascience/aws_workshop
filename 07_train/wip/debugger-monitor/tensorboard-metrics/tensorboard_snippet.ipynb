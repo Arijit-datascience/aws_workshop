{
 "cells": [
  {
   "cell_type": "markdown",
   "metadata": {},
   "source": [
    "#########################\n",
    "### Please make sure you are using the `conda_python3` Jupyter Kernel.\n",
    "We will install the necessary libraries.\n",
    "\n",
    "#########################"
   ]
  },
  {
   "cell_type": "markdown",
   "metadata": {},
   "source": [
    "## Monitor Progress with TensorBoard. \n",
    "Launch tensorboard and open the link on a new tab to visualize training progress.\n",
    "\n",
    "Open a new browser and navigate to the following link to access TensorBoard and visualize the training progress:\n",
    "\n",
    "```\n",
    "https://***your_notebook_name***.notebook.us-west-2.sagemaker.aws/proxy/6006/\n",
    "```\n",
    "\n",
    "Notes: \n",
    "* Make sure to replace `your_notebook_name` with the name of your notebook instance found in the browser URL.\n",
    "* You must copy the `/` at the end of the URL!\n",
    "* If you see `500: Internal Server Error`, then `tensorboard` is not yet running.  Either wait or troubleshoot the issue.\n",
    "* If you see `ValidationException, Notebook Instance arn:aws:sagemaker:xx:xx:notebook-instance/xx does not exist`, double-check the `region=` query param in the browser URL."
   ]
  },
  {
   "cell_type": "code",
   "execution_count": null,
   "metadata": {},
   "outputs": [],
   "source": [
    "!S3_REGION={region} tensorboard --logdir {model_output_path}/{training_job_name"
   ]
  },
  {
   "cell_type": "code",
   "execution_count": null,
   "metadata": {},
   "outputs": [],
   "source": []
  }
 ],
 "metadata": {
  "kernelspec": {
   "display_name": "conda_python3",
   "language": "python",
   "name": "conda_python3"
  },
  "language_info": {
   "codemirror_mode": {
    "name": "ipython",
    "version": 3
   },
   "file_extension": ".py",
   "mimetype": "text/x-python",
   "name": "python",
   "nbconvert_exporter": "python",
   "pygments_lexer": "ipython3",
   "version": "3.6.5"
  },
  "notice": "Copyright 2017 Amazon.com, Inc. or its affiliates. All Rights Reserved.  Licensed under the Apache License, Version 2.0 (the \"License\"). You may not use this file except in compliance with the License. A copy of the License is located at http://aws.amazon.com/apache2.0/ or in the \"license\" file accompanying this file. This file is distributed on an \"AS IS\" BASIS, WITHOUT WARRANTIES OR CONDITIONS OF ANY KIND, either express or implied. See the License for the specific language governing permissions and limitations under the License."
 },
 "nbformat": 4,
 "nbformat_minor": 4
}
